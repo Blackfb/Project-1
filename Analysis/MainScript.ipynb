{
 "cells": [
  {
   "cell_type": "code",
   "execution_count": 1,
   "metadata": {},
   "outputs": [],
   "source": [
    "# Dependencies and Setup\n",
    "import matplotlib.pyplot as plt\n",
    "import pandas as pd\n",
    "import numpy as np\n",
    "import requests\n",
    "import time\n",
    "import json\n",
    "import scipy.stats as st\n",
    "from scipy.stats import linregress\n",
    "from config import apikey\n"
   ]
  },
  {
   "cell_type": "code",
   "execution_count": null,
   "metadata": {},
   "outputs": [],
   "source": [
    "#2018-2019 season was from 10/16/2018 to 4/10/2019\n",
    "# URL for GET requests to retrieve NBA game ids from the season url\n",
    "scheduleurl = \"https://api.sportradar.us/nba/trial/v7/en/games/2018/reg/schedule.json?api_key=\"\n",
    "# Print the response object to the console\n",
    "response = requests.get(scheduleurl+apikey).json()\n",
    "print(json.dumps(response, indent=4, sort_keys=True))"
   ]
  },
  {
   "cell_type": "code",
   "execution_count": null,
   "metadata": {},
   "outputs": [],
   "source": [
    "# The \"response\" property in articles contains the actual articles\n",
    "# list comprehension.\n",
    "gameids = response[\"games\"]"
   ]
  },
  {
   "cell_type": "code",
   "execution_count": null,
   "metadata": {},
   "outputs": [],
   "source": [
    "gameids_list = []\n",
    "date = []\n",
    "city = []\n",
    "country = []\n",
    "hometeam = []\n",
    "awayteam = []\n",
    "\n",
    "# Print the web_url of each stored article\n",
    "for gameid in gameids:\n",
    "    gameids_list.append(gameid[\"id\"])\n",
    "    date.append(gameid[\"scheduled\"])\n",
    "    city.append(gameid[\"venue\"][\"city\"])\n",
    "    country.append(gameid[\"venue\"][\"country\"])\n",
    "    hometeam.append(gameid[\"home\"][\"name\"])\n",
    "    awayteam.append(gameid[\"away\"][\"name\"])\n",
    "    "
   ]
  },
  {
   "cell_type": "code",
   "execution_count": null,
   "metadata": {},
   "outputs": [],
   "source": [
    "NBA_df = pd.DataFrame({\n",
    "    \"GameID\": gameids_list,\n",
    "    \"Date\": date,\n",
    "    \"City\":city,\n",
    "    \"Country\":country,\n",
    "    \"Home Team\":hometeam,\n",
    "    \"Away Team\":awayteam\n",
    "})\n",
    "NBA_df"
   ]
  },
  {
   "cell_type": "code",
   "execution_count": null,
   "metadata": {},
   "outputs": [],
   "source": [
    "#do it again for 2019\n",
    "#2019-2020 season was from 10/22/2019 to 3/11/2020\n",
    "# URL for GET requests to retrieve NBA game ids from the season url\n",
    "scheduleurl = \"https://api.sportradar.us/nba/trial/v7/en/games/2019/reg/schedule.json?api_key=\"\n",
    "# Print the response object to the console\n",
    "response = requests.get(scheduleurl+apikey).json()\n",
    "print(json.dumps(response, indent=4, sort_keys=True))"
   ]
  },
  {
   "cell_type": "code",
   "execution_count": null,
   "metadata": {},
   "outputs": [],
   "source": [
    "# The \"response\" property in articles contains the actual articles\n",
    "# list comprehension.\n",
    "gameids = response[\"games\"]"
   ]
  },
  {
   "cell_type": "code",
   "execution_count": null,
   "metadata": {},
   "outputs": [],
   "source": [
    "gameids_list = []\n",
    "date = []\n",
    "city = []\n",
    "country = []\n",
    "hometeam = []\n",
    "awayteam = []\n",
    "\n",
    "# Print the web_url of each stored article\n",
    "for gameid in gameids:\n",
    "    gameids_list.append(gameid[\"id\"])\n",
    "    date.append(gameid[\"scheduled\"])\n",
    "    city.append(gameid[\"venue\"][\"city\"])\n",
    "    country.append(gameid[\"venue\"][\"country\"])\n",
    "    hometeam.append(gameid[\"home\"][\"name\"])\n",
    "    awayteam.append(gameid[\"away\"][\"name\"])"
   ]
  },
  {
   "cell_type": "code",
   "execution_count": null,
   "metadata": {},
   "outputs": [],
   "source": [
    "NBA19_df = pd.DataFrame({\n",
    "    \"GameID\": gameids_list,\n",
    "    \"Date\": date,\n",
    "    \"City\":city,\n",
    "    \"Country\":country,\n",
    "    \"Home Team\":hometeam,\n",
    "    \"Away Team\":awayteam\n",
    "    })\n",
    "NBA19_df"
   ]
  },
  {
   "cell_type": "code",
   "execution_count": null,
   "metadata": {},
   "outputs": [],
   "source": [
    "NBAALL_df = NBA_df.append(NBA19_df)\n",
    "NBAALL_df"
   ]
  },
  {
   "cell_type": "code",
   "execution_count": null,
   "metadata": {},
   "outputs": [],
   "source": [
    "# Export file as a CSV, without the Pandas index, but with the header\n",
    "NBAALL_df.to_csv(\"Output/NBAALL_df.csv\", index=False, header=True)"
   ]
  },
  {
   "cell_type": "code",
   "execution_count": null,
   "metadata": {},
   "outputs": [],
   "source": [
    "# Now we have the all games id\n",
    "# Starting the get game info from game id"
   ]
  },
  {
   "cell_type": "code",
   "execution_count": null,
   "metadata": {},
   "outputs": [],
   "source": [
    "NBAschedule = \"Output/NBA900.csv\"\n",
    "# Not every CSV requires an encoding, but be aware this can come up\n",
    "NBAschedule_df = pd.read_csv(NBAschedule, encoding=\"ISO-8859-1\")\n",
    "# Show just the header\n",
    "NBAschedule_df.head()"
   ]
  },
  {
   "cell_type": "code",
   "execution_count": null,
   "metadata": {},
   "outputs": [],
   "source": [
    "gameids_list=NBAschedule_df[\"ï»¿GameID\"]\n",
    "print(gameids_list)"
   ]
  },
  {
   "cell_type": "code",
   "execution_count": null,
   "metadata": {},
   "outputs": [],
   "source": [
    "# tv maze show search base url\n",
    "boxscoreurl = \"http://api.sportradar.us/nba/trial/v7/en/games/\"\n",
    "endboxscoreurl = \"/summary.json?api_key=\"+apikey\n",
    "\n",
    "# set up lists to hold response data for name and rating\n",
    "#main tree\n",
    "attendances = []\n",
    "#home then points\n",
    "homepointstotals = []\n",
    "#scoring, 0, points\n",
    "home1stquarterpoints = []\n",
    "#home then statistics\n",
    "home_field_goals_pcts = []\n",
    "home_three_points_pcts = []\n",
    "home_free_throws_pcts = []\n",
    "#away then points\n",
    "awaypointstotals = []\n",
    "#scoring, 0, points\n",
    "away1stquarterpoints = []\n",
    "#away then statistics\n",
    "away_field_goals_pcts = []\n",
    "away_three_points_pcts = []\n",
    "away_free_throws_pcts = []\n"
   ]
  },
  {
   "cell_type": "code",
   "execution_count": null,
   "metadata": {},
   "outputs": [],
   "source": [
    "# loop through game ids, make requests and parse and append\n",
    "for gameids in gameids_list:\n",
    "    target_url = boxscoreurl + gameids + endboxscoreurl\n",
    "    boxscore_response = requests.get(target_url)\n",
    "    time.sleep(1)\n",
    "    boxscore_response_json = boxscore_response.json()\n",
    "# Get attendance from JSON response\n",
    "    # Try to grab the attendance figure from the json if not move on.  \n",
    "    try:\n",
    "        print(f\"{gameids} found! Appending stats\")\n",
    "        attendances.append(boxscore_response_json['attendance'])\n",
    "        homepointstotals.append(boxscore_response_json['home']['points'])\n",
    "        home1stquarterpoints.append(boxscore_response_json['home']['scoring'][0]['points'])\n",
    "        home_field_goals_pcts.append(boxscore_response_json['home']['statistics']['field_goals_pct'])\n",
    "        home_three_points_pcts.append(boxscore_response_json['home']['statistics']['three_points_pct'])\n",
    "        home_free_throws_pcts.append(boxscore_response_json['home']['statistics']['free_throws_pct'])\n",
    "        awaypointstotals.append(boxscore_response_json['away']['points'])\n",
    "        away1stquarterpoints.append(boxscore_response_json['away']['scoring'][0]['points'])\n",
    "        away_field_goals_pcts.append(boxscore_response_json['away']['statistics']['field_goals_pct'])\n",
    "        away_three_points_pcts.append(boxscore_response_json['away']['statistics']['three_points_pct'])\n",
    "        away_free_throws_pcts.append(boxscore_response_json['away']['statistics']['free_throws_pct'])\n",
    "        \n",
    "    # Handle exceptions for a character that is not available in the Star Wars API\n",
    "    except:\n",
    "        # Append null values\n",
    "        print(\"Character not found\")\n",
    "        pass  "
   ]
  },
  {
   "cell_type": "code",
   "execution_count": null,
   "metadata": {},
   "outputs": [],
   "source": [
    "NBAfull_df = pd.DataFrame({\n",
    "    \"attendance\": attendances,\n",
    "    \"Home Score\": homepointstotals,\n",
    "    \"Home 1st Q\":home1stquarterpoints,\n",
    "    \"Home FG%\":home_field_goals_pcts,\n",
    "    \"Home 3pt%\":home_three_points_pcts,\n",
    "    \"Home FT%\":home_free_throws_pcts,\n",
    "    \"Away Score\":awaypointstotals,\n",
    "    \"Away 1st Q\":away1stquarterpoints,\n",
    "    \"Away FG%\":away_field_goals_pcts,\n",
    "    \"Away 3pt%\":away_three_points_pcts,\n",
    "    \"Away FT%\":away_free_throws_pcts\n",
    "})\n",
    "NBAfull_df"
   ]
  },
  {
   "cell_type": "code",
   "execution_count": null,
   "metadata": {},
   "outputs": [],
   "source": [
    "# Export file as a CSV, without the Pandas index, but with the header\n",
    "NBAfull_df.to_csv(\"Output/NBAfull_df.csv\", index=False, header=True)\n"
   ]
  },
  {
   "cell_type": "code",
   "execution_count": null,
   "metadata": {},
   "outputs": [],
   "source": [
    "# Now we have games info for each games\n",
    "# Starting data clean and try to make one csv file for all information\n",
    "# NBAALL_df.csv shows season 2018 and 2019 all game id, Date, City, Country, Home Team, Away Team\n",
    "# NBAfull_df.csv shows game information; attendance, Home Score, Home 1st Q, Home FG%,Home 3pt%,Home FT%, Away Score,Away 1st Q, Away FG%,Away 3pt%, Away FT%\n",
    "# NbaData.csv our clean cvs file and It shows everything"
   ]
  },
  {
   "cell_type": "code",
   "execution_count": null,
   "metadata": {},
   "outputs": [],
   "source": []
  },
  {
   "cell_type": "code",
   "execution_count": null,
   "metadata": {},
   "outputs": [],
   "source": []
  },
  {
   "cell_type": "code",
   "execution_count": null,
   "metadata": {},
   "outputs": [],
   "source": []
  },
  {
   "cell_type": "code",
   "execution_count": null,
   "metadata": {},
   "outputs": [],
   "source": []
  },
  {
   "cell_type": "code",
   "execution_count": null,
   "metadata": {},
   "outputs": [],
   "source": []
  },
  {
   "cell_type": "code",
   "execution_count": null,
   "metadata": {},
   "outputs": [],
   "source": []
  },
  {
   "cell_type": "code",
   "execution_count": null,
   "metadata": {},
   "outputs": [],
   "source": []
  },
  {
   "cell_type": "code",
   "execution_count": null,
   "metadata": {},
   "outputs": [],
   "source": []
  },
  {
   "cell_type": "code",
   "execution_count": null,
   "metadata": {},
   "outputs": [],
   "source": []
  },
  {
   "cell_type": "code",
   "execution_count": null,
   "metadata": {},
   "outputs": [],
   "source": []
  },
  {
   "cell_type": "code",
   "execution_count": null,
   "metadata": {},
   "outputs": [],
   "source": []
  },
  {
   "cell_type": "code",
   "execution_count": null,
   "metadata": {},
   "outputs": [],
   "source": []
  }
 ],
 "metadata": {
  "kernelspec": {
   "display_name": "Python 3",
   "language": "python",
   "name": "python3"
  },
  "language_info": {
   "codemirror_mode": {
    "name": "ipython",
    "version": 3
   },
   "file_extension": ".py",
   "mimetype": "text/x-python",
   "name": "python",
   "nbconvert_exporter": "python",
   "pygments_lexer": "ipython3",
   "version": "3.7.6"
  }
 },
 "nbformat": 4,
 "nbformat_minor": 4
}
