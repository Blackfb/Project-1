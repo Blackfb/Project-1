{
 "cells": [
  {
   "cell_type": "markdown",
   "metadata": {},
   "source": [
    "# Project 1 - NBA Analysis\n",
    "\n",
    "## Purpose\n",
    "- Does attendance affect performance?\n",
    "- Does weather affect attendance?\n",
    "\n",
    "## Methodology\n",
    "\n",
    "- Timeframe\n",
    "    - 2018-2019, 2019-2020 Seasons\n",
    "    \n",
    "- Data Points\n",
    "    - Attendance per game\n",
    "    - Points per game\n",
    "    - Wins / losses\n",
    "    - Final Score\n",
    "    - 3 pt %\n",
    "    - Free Throw %\n",
    "    - Field Goal %\n",
    "\n",
    "- Sources\n",
    "    - www.sportradar.com\n",
    "    - https://openweathermap.org/\n",
    "    \n",
    "## Team Roles\n",
    "- Derek\n",
    "    - Data / Analysis \n",
    "\n",
    "- John\n",
    "    - Analysis\n",
    "\n",
    "- Matt\n",
    "    - PM / Final Report / Analysis\n",
    "\n",
    "- Patrick\n",
    "    - Analytics Outline / Analysis\n",
    "\n",
    "- Resul\n",
    "    - Data / Analysis\n"
   ]
  },
  {
   "cell_type": "markdown",
   "metadata": {},
   "source": [
    "## Data Structures\n",
    "\n",
    "### Main CSV\n",
    "\n",
    "| Game ID | Date | Start Time | Home Team Name | Home Team Points Scored | Home 3 pt Percentage | Home Field Goal Percentage | Home Free Throw Percentage | Away Team Name | Away Team Points Scored | Away 3 pt Percentage | Away Field Goal Percentage | Away Free Throw Percentage | Winning Team |"
   ]
  }
 ],
 "metadata": {
  "kernelspec": {
   "display_name": "Python 3",
   "language": "python",
   "name": "python3"
  },
  "language_info": {
   "codemirror_mode": {
    "name": "ipython",
    "version": 3
   },
   "file_extension": ".py",
   "mimetype": "text/x-python",
   "name": "python",
   "nbconvert_exporter": "python",
   "pygments_lexer": "ipython3",
   "version": "3.7.6"
  }
 },
 "nbformat": 4,
 "nbformat_minor": 4
}
